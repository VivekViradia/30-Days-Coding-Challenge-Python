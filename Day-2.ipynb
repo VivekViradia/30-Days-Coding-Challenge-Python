{
 "cells": [
  {
   "cell_type": "markdown",
   "id": "c9b81aa1",
   "metadata": {},
   "source": [
    "# Day2 Challange:\n",
    "Stair-case partern in Python"
   ]
  },
  {
   "cell_type": "code",
   "execution_count": 68,
   "id": "0053355c",
   "metadata": {},
   "outputs": [
    {
     "name": "stdout",
     "output_type": "stream",
     "text": [
      "                *   * \n",
      "                *   * \n",
      "            *   *   *   * \n",
      "            *   *   *   * \n",
      "        *   *   *   *   *   * \n",
      "        *   *   *   *   *   * \n",
      "    *   *   *   *   *   *   *   * \n",
      "    *   *   *   *   *   *   *   * \n",
      "*   *   *   *   *   *   *   *   *   * \n",
      "*   *   *   *   *   *   *   *   *   * \n"
     ]
    }
   ],
   "source": [
    "n=10\n",
    "for i in range(1,n+1):\n",
    "    k=i+1 if(i%2!=0) else i\n",
    "    for g in range(k,n):\n",
    "        if g>=k:\n",
    "            print(end='  ')\n",
    "    for j in range(0,k):\n",
    "        if j==k-1:\n",
    "            print('* ')\n",
    "        else:\n",
    "            print('* ',end='  ')"
   ]
  },
  {
   "cell_type": "code",
   "execution_count": 92,
   "id": "5b98ba4c",
   "metadata": {},
   "outputs": [],
   "source": [
    "def parttern(n):\n",
    "    for i in range(1,n+1):\n",
    "        if i%2!=0:\n",
    "            k=i+1\n",
    "        else:\n",
    "            i\n",
    "        for j in range(k,n):\n",
    "            if j>=k:\n",
    "                print('-',end=' ')\n",
    "        for j in range(0,k):\n",
    "            if j==k-1:\n",
    "                print('* ')\n",
    "            else:\n",
    "                print('* ',end='  ')"
   ]
  },
  {
   "cell_type": "code",
   "execution_count": 93,
   "id": "e3e3f1af",
   "metadata": {},
   "outputs": [
    {
     "name": "stdout",
     "output_type": "stream",
     "text": [
      "- - - - - - - - *   * \n",
      "- - - - - - - - *   * \n",
      "- - - - - - *   *   *   * \n",
      "- - - - - - *   *   *   * \n",
      "- - - - *   *   *   *   *   * \n",
      "- - - - *   *   *   *   *   * \n",
      "- - *   *   *   *   *   *   *   * \n",
      "- - *   *   *   *   *   *   *   * \n",
      "*   *   *   *   *   *   *   *   *   * \n",
      "*   *   *   *   *   *   *   *   *   * \n"
     ]
    }
   ],
   "source": [
    "parttern(10)"
   ]
  },
  {
   "cell_type": "markdown",
   "id": "f4e97d12",
   "metadata": {},
   "source": []
  }
 ],
 "metadata": {
  "kernelspec": {
   "display_name": "Python 3",
   "language": "python",
   "name": "python3"
  },
  "language_info": {
   "codemirror_mode": {
    "name": "ipython",
    "version": 3
   },
   "file_extension": ".py",
   "mimetype": "text/x-python",
   "name": "python",
   "nbconvert_exporter": "python",
   "pygments_lexer": "ipython3",
   "version": "3.8.8"
  }
 },
 "nbformat": 4,
 "nbformat_minor": 5
}
