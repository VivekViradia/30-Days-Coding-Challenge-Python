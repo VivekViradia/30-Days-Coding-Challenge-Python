{
 "cells": [
  {
   "cell_type": "markdown",
   "id": "297e8f31",
   "metadata": {},
   "source": [
    "# Day3 Challenge:\n",
    "A chef was cooking and need 200ml of cup, but there were only 500ml & 300ml cups avaiable, and only 200ml of water was needed.Could you help out the chef to solve the problem in Python.\n"
   ]
  },
  {
   "cell_type": "code",
   "execution_count": 4,
   "id": "2a9978f9",
   "metadata": {},
   "outputs": [
    {
     "name": "stdout",
     "output_type": "stream",
     "text": [
      "First fill the cup1 with 500ml, then ,pour the cup2 full from cup1. Water required by the chef will be left out in cup1.\n",
      "Water Required: 200\n"
     ]
    }
   ],
   "source": [
    "#Lets assume 500ml as cup1 and 300ml as cup2.\n",
    "cup1, cup2 = 500,300\n",
    "water_requied = cup1-cup2\n",
    "print('First fill the cup1 with 500ml, then ,pour the cup2 full from cup1. Water required by the chef will be left out in cup1.')\n",
    "print('Water Required:',water_requied)"
   ]
  },
  {
   "cell_type": "markdown",
   "id": "0d073789",
   "metadata": {},
   "source": []
  }
 ],
 "metadata": {
  "kernelspec": {
   "display_name": "Python 3",
   "language": "python",
   "name": "python3"
  },
  "language_info": {
   "codemirror_mode": {
    "name": "ipython",
    "version": 3
   },
   "file_extension": ".py",
   "mimetype": "text/x-python",
   "name": "python",
   "nbconvert_exporter": "python",
   "pygments_lexer": "ipython3",
   "version": "3.8.8"
  }
 },
 "nbformat": 4,
 "nbformat_minor": 5
}
