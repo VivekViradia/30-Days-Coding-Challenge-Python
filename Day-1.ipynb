{
 "cells": [
  {
   "cell_type": "markdown",
   "id": "2d3751f6",
   "metadata": {},
   "source": [
    "# Day1 Challenge:\n",
    "There was a teacher in a small town who loves coding and he wants to create a program which prints out the whole multiplication table of an entered number for his students.Can you help him to write programe in python?"
   ]
  },
  {
   "cell_type": "code",
   "execution_count": 1,
   "id": "648e68f7",
   "metadata": {},
   "outputs": [
    {
     "name": "stdout",
     "output_type": "stream",
     "text": [
      "Enter the Number to get multiplication table:- 5\n",
      "Enter the number of multiplication you want:-12\n",
      "5 x 1 = 5\n",
      "5 x 2 = 10\n",
      "5 x 3 = 15\n",
      "5 x 4 = 20\n",
      "5 x 5 = 25\n",
      "5 x 6 = 30\n",
      "5 x 7 = 35\n",
      "5 x 8 = 40\n",
      "5 x 9 = 45\n",
      "5 x 10 = 50\n",
      "5 x 11 = 55\n",
      "5 x 12 = 60\n"
     ]
    }
   ],
   "source": [
    "n = int(input('Enter the Number to get multiplication table:- '))\n",
    "w = int(input('Enter the number of multiplication you want:-'))\n",
    "for i in range(1,w+1):\n",
    "    print(n,'x',i,'=',n*i)"
   ]
  },
  {
   "cell_type": "code",
   "execution_count": 2,
   "id": "615cdbe1",
   "metadata": {},
   "outputs": [],
   "source": [
    "#Creating Function\n",
    "def table(n,w):\n",
    "    for i in range(1,w+1):\n",
    "        print(n,'x',i,'=',n*1)"
   ]
  },
  {
   "cell_type": "code",
   "execution_count": 3,
   "id": "9c242c8b",
   "metadata": {},
   "outputs": [
    {
     "name": "stdout",
     "output_type": "stream",
     "text": [
      "4 x 1 = 4\n",
      "4 x 2 = 4\n",
      "4 x 3 = 4\n",
      "4 x 4 = 4\n",
      "4 x 5 = 4\n",
      "4 x 6 = 4\n",
      "4 x 7 = 4\n",
      "4 x 8 = 4\n",
      "4 x 9 = 4\n",
      "4 x 10 = 4\n",
      "4 x 11 = 4\n",
      "4 x 12 = 4\n",
      "4 x 13 = 4\n",
      "4 x 14 = 4\n",
      "4 x 15 = 4\n"
     ]
    }
   ],
   "source": [
    "table(4,15)"
   ]
  },
  {
   "cell_type": "markdown",
   "id": "c889c93b",
   "metadata": {},
   "source": []
  }
 ],
 "metadata": {
  "kernelspec": {
   "display_name": "Python 3",
   "language": "python",
   "name": "python3"
  },
  "language_info": {
   "codemirror_mode": {
    "name": "ipython",
    "version": 3
   },
   "file_extension": ".py",
   "mimetype": "text/x-python",
   "name": "python",
   "nbconvert_exporter": "python",
   "pygments_lexer": "ipython3",
   "version": "3.8.8"
  }
 },
 "nbformat": 4,
 "nbformat_minor": 5
}
