{
 "cells": [
  {
   "cell_type": "markdown",
   "id": "61ea0756",
   "metadata": {},
   "source": [
    "# Day4 Challenge:\n",
    "Jack brought 400 Hot dogs at school picnic.If thry were contained in package of 8 hot dogs, How many total package did he buy.\n",
    "Create a Python programe without using \\ or % opereater."
   ]
  },
  {
   "cell_type": "code",
   "execution_count": 10,
   "id": "aa20cc2e",
   "metadata": {},
   "outputs": [
    {
     "name": "stdout",
     "output_type": "stream",
     "text": [
      "No of Packages used to fill 400 Hot dogs: 50\n"
     ]
    }
   ],
   "source": [
    "i=0\n",
    "count=0\n",
    "while i<400:\n",
    "    i+=8\n",
    "    count+=1\n",
    "    pass\n",
    "print('No of Packages used to fill 400 Hot dogs:',count)"
   ]
  },
  {
   "cell_type": "markdown",
   "id": "bc95b955",
   "metadata": {},
   "source": []
  }
 ],
 "metadata": {
  "kernelspec": {
   "display_name": "Python 3",
   "language": "python",
   "name": "python3"
  },
  "language_info": {
   "codemirror_mode": {
    "name": "ipython",
    "version": 3
   },
   "file_extension": ".py",
   "mimetype": "text/x-python",
   "name": "python",
   "nbconvert_exporter": "python",
   "pygments_lexer": "ipython3",
   "version": "3.8.8"
  }
 },
 "nbformat": 4,
 "nbformat_minor": 5
}
